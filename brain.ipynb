{
 "cells": [
  {
   "cell_type": "code",
   "execution_count": 19,
   "id": "ee6990a1-eb9e-42a5-bf54-8cbd85e1d23b",
   "metadata": {},
   "outputs": [],
   "source": [
    "import os\n",
    "import numpy as np\n",
    "import cv2\n",
    "import matplotlib.pyplot as plt\n",
    "import tensorflow as tf\n",
    "from tensorflow.keras.models import Sequential\n",
    "from tensorflow.keras.layers import Conv2D, MaxPooling2D, Flatten, Dense, Dropout, LSTM, GRU, TimeDistributed\n",
    "from tensorflow.keras.preprocessing.image import ImageDataGenerator\n",
    "from tensorflow.keras.utils import to_categorical\n",
    "from sklearn.model_selection import train_test_split\n",
    "from sklearn.preprocessing import LabelEncoder\n"
   ]
  },
  {
   "cell_type": "code",
   "execution_count": 20,
   "id": "54ddc2d5-a730-4e7b-95d7-ec76566efd36",
   "metadata": {},
   "outputs": [
    {
     "name": "stdout",
     "output_type": "stream",
     "text": [
      "✅ Dataset extracted!\n"
     ]
    }
   ],
   "source": [
    "DATASET_PATH = r\"C:\\Users\\RAJ\\Downloads\\archive (2).zip\"\n",
    "\n",
    "# Extract dataset if not already extracted\n",
    "import zipfile\n",
    "extract_path = os.path.join(os.path.dirname(DATASET_PATH), \"Data\")\n",
    "if not os.path.exists(extract_path):\n",
    "    with zipfile.ZipFile(DATASET_PATH, 'r') as zip_ref:\n",
    "        zip_ref.extractall(os.path.dirname(DATASET_PATH))\n",
    "    print(\"✅ Dataset extracted!\")\n",
    "else:\n",
    "    print(\"✅ Dataset already extracted!\")\n"
   ]
  },
  {
   "cell_type": "code",
   "execution_count": 22,
   "id": "b5a697f8-2ce4-445a-8cc6-755918cf0a59",
   "metadata": {},
   "outputs": [],
   "source": [
    "for label, folder in class_dirs.items():\n",
    "    for sub_folder in os.listdir(folder):\n",
    "        sub_folder_path = os.path.join(folder, sub_folder)\n",
    "        if os.path.isdir(sub_folder_path):\n",
    "            for img_file in os.listdir(sub_folder_path):\n",
    "                img_path = os.path.join(sub_folder_path, img_file)\n",
    "                if not os.path.exists(img_path):\n",
    "                    print(f\"❌ File Not Found: {img_path}\")\n"
   ]
  },
  {
   "cell_type": "code",
   "execution_count": 24,
   "id": "057ac351-b52e-4448-9026-0a355513c26a",
   "metadata": {},
   "outputs": [
    {
     "name": "stdout",
     "output_type": "stream",
     "text": [
      "✅ Renamed: C:\\Users\\RAJ\\Downloads\\Data\\Hemorrhagic\\KANAMA\\3[3]\\ventrik├╝ler-parankimal kanama_0_10.jpg → C:\\Users\\RAJ\\Downloads\\Data\\Hemorrhagic\\KANAMA\\3[3]\\ventrik_ler-parankimal kanama_0_10.jpg\n",
      "✅ Renamed: C:\\Users\\RAJ\\Downloads\\Data\\Hemorrhagic\\KANAMA\\3[3]\\ventrik├╝ler-parankimal kanama_0_11.jpg → C:\\Users\\RAJ\\Downloads\\Data\\Hemorrhagic\\KANAMA\\3[3]\\ventrik_ler-parankimal kanama_0_11.jpg\n",
      "✅ Renamed: C:\\Users\\RAJ\\Downloads\\Data\\Hemorrhagic\\KANAMA\\3[3]\\ventrik├╝ler-parankimal kanama_0_12.jpg → C:\\Users\\RAJ\\Downloads\\Data\\Hemorrhagic\\KANAMA\\3[3]\\ventrik_ler-parankimal kanama_0_12.jpg\n",
      "✅ Renamed: C:\\Users\\RAJ\\Downloads\\Data\\Hemorrhagic\\KANAMA\\3[3]\\ventrik├╝ler-parankimal kanama_0_13.jpg → C:\\Users\\RAJ\\Downloads\\Data\\Hemorrhagic\\KANAMA\\3[3]\\ventrik_ler-parankimal kanama_0_13.jpg\n",
      "✅ Renamed: C:\\Users\\RAJ\\Downloads\\Data\\Hemorrhagic\\KANAMA\\3[3]\\ventrik├╝ler-parankimal kanama_0_14.jpg → C:\\Users\\RAJ\\Downloads\\Data\\Hemorrhagic\\KANAMA\\3[3]\\ventrik_ler-parankimal kanama_0_14.jpg\n",
      "✅ Renamed: C:\\Users\\RAJ\\Downloads\\Data\\Hemorrhagic\\KANAMA\\3[3]\\ventrik├╝ler-parankimal kanama_0_15.jpg → C:\\Users\\RAJ\\Downloads\\Data\\Hemorrhagic\\KANAMA\\3[3]\\ventrik_ler-parankimal kanama_0_15.jpg\n",
      "✅ Renamed: C:\\Users\\RAJ\\Downloads\\Data\\Hemorrhagic\\KANAMA\\3[3]\\ventrik├╝ler-parankimal kanama_0_16.jpg → C:\\Users\\RAJ\\Downloads\\Data\\Hemorrhagic\\KANAMA\\3[3]\\ventrik_ler-parankimal kanama_0_16.jpg\n",
      "✅ Renamed: C:\\Users\\RAJ\\Downloads\\Data\\Hemorrhagic\\KANAMA\\3[3]\\ventrik├╝ler-parankimal kanama_0_17.jpg → C:\\Users\\RAJ\\Downloads\\Data\\Hemorrhagic\\KANAMA\\3[3]\\ventrik_ler-parankimal kanama_0_17.jpg\n",
      "✅ Renamed: C:\\Users\\RAJ\\Downloads\\Data\\Hemorrhagic\\KANAMA\\3[3]\\ventrik├╝ler-parankimal kanama_0_18.jpg → C:\\Users\\RAJ\\Downloads\\Data\\Hemorrhagic\\KANAMA\\3[3]\\ventrik_ler-parankimal kanama_0_18.jpg\n",
      "✅ Renamed: C:\\Users\\RAJ\\Downloads\\Data\\Hemorrhagic\\KANAMA\\3[3]\\ventrik├╝ler-parankimal kanama_0_19.jpg → C:\\Users\\RAJ\\Downloads\\Data\\Hemorrhagic\\KANAMA\\3[3]\\ventrik_ler-parankimal kanama_0_19.jpg\n",
      "✅ Renamed: C:\\Users\\RAJ\\Downloads\\Data\\Hemorrhagic\\KANAMA\\3[3]\\ventrik├╝ler-parankimal kanama_0_20.jpg → C:\\Users\\RAJ\\Downloads\\Data\\Hemorrhagic\\KANAMA\\3[3]\\ventrik_ler-parankimal kanama_0_20.jpg\n",
      "✅ Renamed: C:\\Users\\RAJ\\Downloads\\Data\\Hemorrhagic\\KANAMA\\3[3]\\ventrik├╝ler-parankimal kanama_0_21.jpg → C:\\Users\\RAJ\\Downloads\\Data\\Hemorrhagic\\KANAMA\\3[3]\\ventrik_ler-parankimal kanama_0_21.jpg\n",
      "✅ Renamed: C:\\Users\\RAJ\\Downloads\\Data\\Hemorrhagic\\KANAMA\\3[3]\\ventrik├╝ler-parankimal kanama_0_22.jpg → C:\\Users\\RAJ\\Downloads\\Data\\Hemorrhagic\\KANAMA\\3[3]\\ventrik_ler-parankimal kanama_0_22.jpg\n",
      "✅ Renamed: C:\\Users\\RAJ\\Downloads\\Data\\Hemorrhagic\\KANAMA\\3[3]\\ventrik├╝ler-parankimal kanama_0_23.jpg → C:\\Users\\RAJ\\Downloads\\Data\\Hemorrhagic\\KANAMA\\3[3]\\ventrik_ler-parankimal kanama_0_23.jpg\n",
      "✅ Renamed: C:\\Users\\RAJ\\Downloads\\Data\\Hemorrhagic\\KANAMA\\3[3]\\ventrik├╝ler-parankimal kanama_0_24.jpg → C:\\Users\\RAJ\\Downloads\\Data\\Hemorrhagic\\KANAMA\\3[3]\\ventrik_ler-parankimal kanama_0_24.jpg\n",
      "✅ Renamed: C:\\Users\\RAJ\\Downloads\\Data\\Hemorrhagic\\KANAMA\\3[3]\\ventrik├╝ler-parankimal kanama_0_25.jpg → C:\\Users\\RAJ\\Downloads\\Data\\Hemorrhagic\\KANAMA\\3[3]\\ventrik_ler-parankimal kanama_0_25.jpg\n",
      "✅ Renamed: C:\\Users\\RAJ\\Downloads\\Data\\Hemorrhagic\\KANAMA\\3[3]\\ventrik├╝ler-parankimal kanama_0_26.jpg → C:\\Users\\RAJ\\Downloads\\Data\\Hemorrhagic\\KANAMA\\3[3]\\ventrik_ler-parankimal kanama_0_26.jpg\n",
      "✅ Renamed: C:\\Users\\RAJ\\Downloads\\Data\\Hemorrhagic\\KANAMA\\3[3]\\ventrik├╝ler-parankimal kanama_0_27.jpg → C:\\Users\\RAJ\\Downloads\\Data\\Hemorrhagic\\KANAMA\\3[3]\\ventrik_ler-parankimal kanama_0_27.jpg\n",
      "✅ Renamed: C:\\Users\\RAJ\\Downloads\\Data\\Hemorrhagic\\KANAMA\\3[3]\\ventrik├╝ler-parankimal kanama_0_28.jpg → C:\\Users\\RAJ\\Downloads\\Data\\Hemorrhagic\\KANAMA\\3[3]\\ventrik_ler-parankimal kanama_0_28.jpg\n",
      "✅ Renamed: C:\\Users\\RAJ\\Downloads\\Data\\Hemorrhagic\\KANAMA\\3[3]\\ventrik├╝ler-parankimal kanama_0_29.jpg → C:\\Users\\RAJ\\Downloads\\Data\\Hemorrhagic\\KANAMA\\3[3]\\ventrik_ler-parankimal kanama_0_29.jpg\n",
      "✅ Renamed: C:\\Users\\RAJ\\Downloads\\Data\\Hemorrhagic\\KANAMA\\3[3]\\ventrik├╝ler-parankimal kanama_0_30.jpg → C:\\Users\\RAJ\\Downloads\\Data\\Hemorrhagic\\KANAMA\\3[3]\\ventrik_ler-parankimal kanama_0_30.jpg\n",
      "✅ Renamed: C:\\Users\\RAJ\\Downloads\\Data\\Hemorrhagic\\KANAMA\\3[3]\\ventrik├╝ler-parankimal kanama_0_31.jpg → C:\\Users\\RAJ\\Downloads\\Data\\Hemorrhagic\\KANAMA\\3[3]\\ventrik_ler-parankimal kanama_0_31.jpg\n",
      "✅ Renamed: C:\\Users\\RAJ\\Downloads\\Data\\Hemorrhagic\\KANAMA\\3[3]\\ventrik├╝ler-parankimal kanama_0_32.jpg → C:\\Users\\RAJ\\Downloads\\Data\\Hemorrhagic\\KANAMA\\3[3]\\ventrik_ler-parankimal kanama_0_32.jpg\n",
      "✅ Renamed: C:\\Users\\RAJ\\Downloads\\Data\\Hemorrhagic\\KANAMA\\3[3]\\ventrik├╝ler-parankimal kanama_0_33.jpg → C:\\Users\\RAJ\\Downloads\\Data\\Hemorrhagic\\KANAMA\\3[3]\\ventrik_ler-parankimal kanama_0_33.jpg\n",
      "✅ Renamed: C:\\Users\\RAJ\\Downloads\\Data\\Hemorrhagic\\KANAMA\\3[3]\\ventrik├╝ler-parankimal kanama_0_34.jpg → C:\\Users\\RAJ\\Downloads\\Data\\Hemorrhagic\\KANAMA\\3[3]\\ventrik_ler-parankimal kanama_0_34.jpg\n",
      "✅ Renamed: C:\\Users\\RAJ\\Downloads\\Data\\Hemorrhagic\\KANAMA\\3[3]\\ventrik├╝ler-parankimal kanama_0_35.jpg → C:\\Users\\RAJ\\Downloads\\Data\\Hemorrhagic\\KANAMA\\3[3]\\ventrik_ler-parankimal kanama_0_35.jpg\n",
      "✅ Renamed: C:\\Users\\RAJ\\Downloads\\Data\\Hemorrhagic\\KANAMA\\3[3]\\ventrik├╝ler-parankimal kanama_0_36.jpg → C:\\Users\\RAJ\\Downloads\\Data\\Hemorrhagic\\KANAMA\\3[3]\\ventrik_ler-parankimal kanama_0_36.jpg\n",
      "✅ Renamed: C:\\Users\\RAJ\\Downloads\\Data\\Hemorrhagic\\KANAMA\\3[3]\\ventrik├╝ler-parankimal kanama_0_37.jpg → C:\\Users\\RAJ\\Downloads\\Data\\Hemorrhagic\\KANAMA\\3[3]\\ventrik_ler-parankimal kanama_0_37.jpg\n",
      "✅ Renamed: C:\\Users\\RAJ\\Downloads\\Data\\Hemorrhagic\\KANAMA\\3[3]\\ventrik├╝ler-parankimal kanama_0_38.jpg → C:\\Users\\RAJ\\Downloads\\Data\\Hemorrhagic\\KANAMA\\3[3]\\ventrik_ler-parankimal kanama_0_38.jpg\n",
      "✅ Renamed: C:\\Users\\RAJ\\Downloads\\Data\\Hemorrhagic\\KANAMA\\3[3]\\ventrik├╝ler-parankimal kanama_0_39.jpg → C:\\Users\\RAJ\\Downloads\\Data\\Hemorrhagic\\KANAMA\\3[3]\\ventrik_ler-parankimal kanama_0_39.jpg\n",
      "✅ Renamed: C:\\Users\\RAJ\\Downloads\\Data\\Hemorrhagic\\KANAMA\\3[3]\\ventrik├╝ler-parankimal kanama_0_40.jpg → C:\\Users\\RAJ\\Downloads\\Data\\Hemorrhagic\\KANAMA\\3[3]\\ventrik_ler-parankimal kanama_0_40.jpg\n",
      "✅ Renamed: C:\\Users\\RAJ\\Downloads\\Data\\Hemorrhagic\\KANAMA\\3[3]\\ventrik├╝ler-parankimal kanama_0_41.jpg → C:\\Users\\RAJ\\Downloads\\Data\\Hemorrhagic\\KANAMA\\3[3]\\ventrik_ler-parankimal kanama_0_41.jpg\n",
      "✅ Renamed: C:\\Users\\RAJ\\Downloads\\Data\\Hemorrhagic\\KANAMA\\3[3]\\ventrik├╝ler-parankimal kanama_0_42.jpg → C:\\Users\\RAJ\\Downloads\\Data\\Hemorrhagic\\KANAMA\\3[3]\\ventrik_ler-parankimal kanama_0_42.jpg\n",
      "✅ Renamed: C:\\Users\\RAJ\\Downloads\\Data\\Hemorrhagic\\KANAMA\\3[3]\\ventrik├╝ler-parankimal kanama_0_43.jpg → C:\\Users\\RAJ\\Downloads\\Data\\Hemorrhagic\\KANAMA\\3[3]\\ventrik_ler-parankimal kanama_0_43.jpg\n",
      "✅ Renamed: C:\\Users\\RAJ\\Downloads\\Data\\Hemorrhagic\\KANAMA\\3[3]\\ventrik├╝ler-parankimal kanama_0_44.jpg → C:\\Users\\RAJ\\Downloads\\Data\\Hemorrhagic\\KANAMA\\3[3]\\ventrik_ler-parankimal kanama_0_44.jpg\n",
      "✅ Renamed: C:\\Users\\RAJ\\Downloads\\Data\\Hemorrhagic\\KANAMA\\3[3]\\ventrik├╝ler-parankimal kanama_0_45.jpg → C:\\Users\\RAJ\\Downloads\\Data\\Hemorrhagic\\KANAMA\\3[3]\\ventrik_ler-parankimal kanama_0_45.jpg\n",
      "✅ Renamed: C:\\Users\\RAJ\\Downloads\\Data\\Hemorrhagic\\KANAMA\\3[3]\\ventrik├╝ler-parankimal kanama_0_46.jpg → C:\\Users\\RAJ\\Downloads\\Data\\Hemorrhagic\\KANAMA\\3[3]\\ventrik_ler-parankimal kanama_0_46.jpg\n",
      "✅ Renamed: C:\\Users\\RAJ\\Downloads\\Data\\Hemorrhagic\\KANAMA\\3[3]\\ventrik├╝ler-parankimal kanama_0_47.jpg → C:\\Users\\RAJ\\Downloads\\Data\\Hemorrhagic\\KANAMA\\3[3]\\ventrik_ler-parankimal kanama_0_47.jpg\n",
      "✅ Renamed: C:\\Users\\RAJ\\Downloads\\Data\\Hemorrhagic\\KANAMA\\3[3]\\ventrik├╝ler-parankimal kanama_0_48.jpg → C:\\Users\\RAJ\\Downloads\\Data\\Hemorrhagic\\KANAMA\\3[3]\\ventrik_ler-parankimal kanama_0_48.jpg\n",
      "✅ Renamed: C:\\Users\\RAJ\\Downloads\\Data\\Hemorrhagic\\KANAMA\\3[3]\\ventrik├╝ler-parankimal kanama_0_49.jpg → C:\\Users\\RAJ\\Downloads\\Data\\Hemorrhagic\\KANAMA\\3[3]\\ventrik_ler-parankimal kanama_0_49.jpg\n",
      "✅ Renamed: C:\\Users\\RAJ\\Downloads\\Data\\Hemorrhagic\\KANAMA\\3[3]\\ventrik├╝ler-parankimal kanama_0_50.jpg → C:\\Users\\RAJ\\Downloads\\Data\\Hemorrhagic\\KANAMA\\3[3]\\ventrik_ler-parankimal kanama_0_50.jpg\n",
      "✅ Renamed: C:\\Users\\RAJ\\Downloads\\Data\\Hemorrhagic\\KANAMA\\3[3]\\ventrik├╝ler-parankimal kanama_0_51.jpg → C:\\Users\\RAJ\\Downloads\\Data\\Hemorrhagic\\KANAMA\\3[3]\\ventrik_ler-parankimal kanama_0_51.jpg\n",
      "✅ Renamed: C:\\Users\\RAJ\\Downloads\\Data\\Hemorrhagic\\KANAMA\\3[3]\\ventrik├╝ler-parankimal kanama_0_52.jpg → C:\\Users\\RAJ\\Downloads\\Data\\Hemorrhagic\\KANAMA\\3[3]\\ventrik_ler-parankimal kanama_0_52.jpg\n",
      "✅ Renamed: C:\\Users\\RAJ\\Downloads\\Data\\Hemorrhagic\\KANAMA\\3[3]\\ventrik├╝ler-parankimal kanama_0_53.jpg → C:\\Users\\RAJ\\Downloads\\Data\\Hemorrhagic\\KANAMA\\3[3]\\ventrik_ler-parankimal kanama_0_53.jpg\n",
      "✅ Renamed: C:\\Users\\RAJ\\Downloads\\Data\\Hemorrhagic\\KANAMA\\3[3]\\ventrik├╝ler-parankimal kanama_0_54.jpg → C:\\Users\\RAJ\\Downloads\\Data\\Hemorrhagic\\KANAMA\\3[3]\\ventrik_ler-parankimal kanama_0_54.jpg\n",
      "✅ Renamed: C:\\Users\\RAJ\\Downloads\\Data\\Hemorrhagic\\KANAMA\\3[3]\\ventrik├╝ler-parankimal kanama_0_55.jpg → C:\\Users\\RAJ\\Downloads\\Data\\Hemorrhagic\\KANAMA\\3[3]\\ventrik_ler-parankimal kanama_0_55.jpg\n",
      "✅ Renamed: C:\\Users\\RAJ\\Downloads\\Data\\Hemorrhagic\\KANAMA\\3[3]\\ventrik├╝ler-parankimal kanama_0_56.jpg → C:\\Users\\RAJ\\Downloads\\Data\\Hemorrhagic\\KANAMA\\3[3]\\ventrik_ler-parankimal kanama_0_56.jpg\n",
      "✅ Renamed: C:\\Users\\RAJ\\Downloads\\Data\\Hemorrhagic\\KANAMA\\3[3]\\ventrik├╝ler-parankimal kanama_0_57.jpg → C:\\Users\\RAJ\\Downloads\\Data\\Hemorrhagic\\KANAMA\\3[3]\\ventrik_ler-parankimal kanama_0_57.jpg\n",
      "✅ Renamed: C:\\Users\\RAJ\\Downloads\\Data\\Hemorrhagic\\KANAMA\\3[3]\\ventrik├╝ler-parankimal kanama_0_58.jpg → C:\\Users\\RAJ\\Downloads\\Data\\Hemorrhagic\\KANAMA\\3[3]\\ventrik_ler-parankimal kanama_0_58.jpg\n",
      "✅ Renamed: C:\\Users\\RAJ\\Downloads\\Data\\Hemorrhagic\\KANAMA\\3[3]\\ventrik├╝ler-parankimal kanama_0_59.jpg → C:\\Users\\RAJ\\Downloads\\Data\\Hemorrhagic\\KANAMA\\3[3]\\ventrik_ler-parankimal kanama_0_59.jpg\n",
      "✅ Renamed: C:\\Users\\RAJ\\Downloads\\Data\\Hemorrhagic\\KANAMA\\3[3]\\ventrik├╝ler-parankimal kanama_0_60.jpg → C:\\Users\\RAJ\\Downloads\\Data\\Hemorrhagic\\KANAMA\\3[3]\\ventrik_ler-parankimal kanama_0_60.jpg\n",
      "✅ Renamed: C:\\Users\\RAJ\\Downloads\\Data\\Hemorrhagic\\KANAMA\\3[3]\\ventrik├╝ler-parankimal kanama_0_61.jpg → C:\\Users\\RAJ\\Downloads\\Data\\Hemorrhagic\\KANAMA\\3[3]\\ventrik_ler-parankimal kanama_0_61.jpg\n",
      "✅ Renamed: C:\\Users\\RAJ\\Downloads\\Data\\Hemorrhagic\\KANAMA\\3[3]\\ventrik├╝ler-parankimal kanama_0_62.jpg → C:\\Users\\RAJ\\Downloads\\Data\\Hemorrhagic\\KANAMA\\3[3]\\ventrik_ler-parankimal kanama_0_62.jpg\n",
      "✅ Renamed: C:\\Users\\RAJ\\Downloads\\Data\\Hemorrhagic\\KANAMA\\3[3]\\ventrik├╝ler-parankimal kanama_0_63.jpg → C:\\Users\\RAJ\\Downloads\\Data\\Hemorrhagic\\KANAMA\\3[3]\\ventrik_ler-parankimal kanama_0_63.jpg\n",
      "✅ Renamed: C:\\Users\\RAJ\\Downloads\\Data\\Hemorrhagic\\KANAMA\\3[3]\\ventrik├╝ler-parankimal kanama_0_64.jpg → C:\\Users\\RAJ\\Downloads\\Data\\Hemorrhagic\\KANAMA\\3[3]\\ventrik_ler-parankimal kanama_0_64.jpg\n",
      "✅ Renamed: C:\\Users\\RAJ\\Downloads\\Data\\Hemorrhagic\\KANAMA\\3[3]\\ventrik├╝ler-parankimal kanama_0_65.jpg → C:\\Users\\RAJ\\Downloads\\Data\\Hemorrhagic\\KANAMA\\3[3]\\ventrik_ler-parankimal kanama_0_65.jpg\n",
      "✅ Renamed: C:\\Users\\RAJ\\Downloads\\Data\\Hemorrhagic\\KANAMA\\3[3]\\ventrik├╝ler-parankimal kanama_0_66.jpg → C:\\Users\\RAJ\\Downloads\\Data\\Hemorrhagic\\KANAMA\\3[3]\\ventrik_ler-parankimal kanama_0_66.jpg\n",
      "✅ Renamed: C:\\Users\\RAJ\\Downloads\\Data\\Hemorrhagic\\KANAMA\\3[3]\\ventrik├╝ler-parankimal kanama_0_67.jpg → C:\\Users\\RAJ\\Downloads\\Data\\Hemorrhagic\\KANAMA\\3[3]\\ventrik_ler-parankimal kanama_0_67.jpg\n",
      "✅ Renamed: C:\\Users\\RAJ\\Downloads\\Data\\Hemorrhagic\\KANAMA\\3[3]\\ventrik├╝ler-parankimal kanama_0_68.jpg → C:\\Users\\RAJ\\Downloads\\Data\\Hemorrhagic\\KANAMA\\3[3]\\ventrik_ler-parankimal kanama_0_68.jpg\n",
      "✅ Renamed: C:\\Users\\RAJ\\Downloads\\Data\\Hemorrhagic\\KANAMA\\3[3]\\ventrik├╝ler-parankimal kanama_0_69.jpg → C:\\Users\\RAJ\\Downloads\\Data\\Hemorrhagic\\KANAMA\\3[3]\\ventrik_ler-parankimal kanama_0_69.jpg\n",
      "✅ Renamed: C:\\Users\\RAJ\\Downloads\\Data\\Hemorrhagic\\KANAMA\\3[3]\\ventrik├╝ler-parankimal kanama_0_70.jpg → C:\\Users\\RAJ\\Downloads\\Data\\Hemorrhagic\\KANAMA\\3[3]\\ventrik_ler-parankimal kanama_0_70.jpg\n",
      "✅ Renamed: C:\\Users\\RAJ\\Downloads\\Data\\Hemorrhagic\\KANAMA\\3[3]\\ventrik├╝ler-parankimal kanama_0_71.jpg → C:\\Users\\RAJ\\Downloads\\Data\\Hemorrhagic\\KANAMA\\3[3]\\ventrik_ler-parankimal kanama_0_71.jpg\n",
      "✅ Renamed: C:\\Users\\RAJ\\Downloads\\Data\\Hemorrhagic\\KANAMA\\3[3]\\ventrik├╝ler-parankimal kanama_0_72.jpg → C:\\Users\\RAJ\\Downloads\\Data\\Hemorrhagic\\KANAMA\\3[3]\\ventrik_ler-parankimal kanama_0_72.jpg\n",
      "✅ Renamed: C:\\Users\\RAJ\\Downloads\\Data\\Hemorrhagic\\KANAMA\\3[3]\\ventrik├╝ler-parankimal kanama_0_73.jpg → C:\\Users\\RAJ\\Downloads\\Data\\Hemorrhagic\\KANAMA\\3[3]\\ventrik_ler-parankimal kanama_0_73.jpg\n",
      "✅ Renamed: C:\\Users\\RAJ\\Downloads\\Data\\Hemorrhagic\\KANAMA\\3[3]\\ventrik├╝ler-parankimal kanama_0_74.jpg → C:\\Users\\RAJ\\Downloads\\Data\\Hemorrhagic\\KANAMA\\3[3]\\ventrik_ler-parankimal kanama_0_74.jpg\n",
      "✅ Renamed: C:\\Users\\RAJ\\Downloads\\Data\\Hemorrhagic\\KANAMA\\3[3]\\ventrik├╝ler-parankimal kanama_0_75.jpg → C:\\Users\\RAJ\\Downloads\\Data\\Hemorrhagic\\KANAMA\\3[3]\\ventrik_ler-parankimal kanama_0_75.jpg\n",
      "✅ Renamed: C:\\Users\\RAJ\\Downloads\\Data\\Hemorrhagic\\KANAMA\\3[3]\\ventrik├╝ler-parankimal kanama_0_76.jpg → C:\\Users\\RAJ\\Downloads\\Data\\Hemorrhagic\\KANAMA\\3[3]\\ventrik_ler-parankimal kanama_0_76.jpg\n",
      "✅ Renamed: C:\\Users\\RAJ\\Downloads\\Data\\Hemorrhagic\\KANAMA\\3[3]\\ventrik├╝ler-parankimal kanama_0_77.jpg → C:\\Users\\RAJ\\Downloads\\Data\\Hemorrhagic\\KANAMA\\3[3]\\ventrik_ler-parankimal kanama_0_77.jpg\n",
      "✅ Renamed: C:\\Users\\RAJ\\Downloads\\Data\\Hemorrhagic\\KANAMA\\3[3]\\ventrik├╝ler-parankimal kanama_0_78.jpg → C:\\Users\\RAJ\\Downloads\\Data\\Hemorrhagic\\KANAMA\\3[3]\\ventrik_ler-parankimal kanama_0_78.jpg\n",
      "✅ Renamed: C:\\Users\\RAJ\\Downloads\\Data\\Hemorrhagic\\KANAMA\\3[3]\\ventrik├╝ler-parankimal kanama_0_79.jpg → C:\\Users\\RAJ\\Downloads\\Data\\Hemorrhagic\\KANAMA\\3[3]\\ventrik_ler-parankimal kanama_0_79.jpg\n",
      "✅ Renamed: C:\\Users\\RAJ\\Downloads\\Data\\Hemorrhagic\\KANAMA\\3[3]\\ventrik├╝ler-parankimal kanama_0_80.jpg → C:\\Users\\RAJ\\Downloads\\Data\\Hemorrhagic\\KANAMA\\3[3]\\ventrik_ler-parankimal kanama_0_80.jpg\n",
      "✅ Renamed: C:\\Users\\RAJ\\Downloads\\Data\\Hemorrhagic\\KANAMA\\3[3]\\ventrik├╝ler-parankimal kanama_0_81.jpg → C:\\Users\\RAJ\\Downloads\\Data\\Hemorrhagic\\KANAMA\\3[3]\\ventrik_ler-parankimal kanama_0_81.jpg\n",
      "✅ Renamed: C:\\Users\\RAJ\\Downloads\\Data\\Hemorrhagic\\KANAMA\\3[3]\\ventrik├╝ler-parankimal kanama_0_82.jpg → C:\\Users\\RAJ\\Downloads\\Data\\Hemorrhagic\\KANAMA\\3[3]\\ventrik_ler-parankimal kanama_0_82.jpg\n",
      "✅ Renamed: C:\\Users\\RAJ\\Downloads\\Data\\Hemorrhagic\\KANAMA\\3[3]\\ventrik├╝ler-parankimal kanama_0_83.jpg → C:\\Users\\RAJ\\Downloads\\Data\\Hemorrhagic\\KANAMA\\3[3]\\ventrik_ler-parankimal kanama_0_83.jpg\n",
      "✅ Renamed: C:\\Users\\RAJ\\Downloads\\Data\\Hemorrhagic\\KANAMA\\3[3]\\ventrik├╝ler-parankimal kanama_0_84.jpg → C:\\Users\\RAJ\\Downloads\\Data\\Hemorrhagic\\KANAMA\\3[3]\\ventrik_ler-parankimal kanama_0_84.jpg\n",
      "✅ Renamed: C:\\Users\\RAJ\\Downloads\\Data\\Hemorrhagic\\KANAMA\\3[3]\\ventrik├╝ler-parankimal kanama_0_85.jpg → C:\\Users\\RAJ\\Downloads\\Data\\Hemorrhagic\\KANAMA\\3[3]\\ventrik_ler-parankimal kanama_0_85.jpg\n",
      "✅ Renamed: C:\\Users\\RAJ\\Downloads\\Data\\Hemorrhagic\\KANAMA\\3[3]\\ventrik├╝ler-parankimal kanama_0_86.jpg → C:\\Users\\RAJ\\Downloads\\Data\\Hemorrhagic\\KANAMA\\3[3]\\ventrik_ler-parankimal kanama_0_86.jpg\n",
      "✅ Renamed: C:\\Users\\RAJ\\Downloads\\Data\\Hemorrhagic\\KANAMA\\3[3]\\ventrik├╝ler-parankimal kanama_0_87.jpg → C:\\Users\\RAJ\\Downloads\\Data\\Hemorrhagic\\KANAMA\\3[3]\\ventrik_ler-parankimal kanama_0_87.jpg\n",
      "✅ Renamed: C:\\Users\\RAJ\\Downloads\\Data\\Hemorrhagic\\KANAMA\\3[3]\\ventrik├╝ler-parankimal kanama_0_88.jpg → C:\\Users\\RAJ\\Downloads\\Data\\Hemorrhagic\\KANAMA\\3[3]\\ventrik_ler-parankimal kanama_0_88.jpg\n",
      "✅ Renamed: C:\\Users\\RAJ\\Downloads\\Data\\Hemorrhagic\\KANAMA\\3[3]\\ventrik├╝ler-parankimal kanama_0_89.jpg → C:\\Users\\RAJ\\Downloads\\Data\\Hemorrhagic\\KANAMA\\3[3]\\ventrik_ler-parankimal kanama_0_89.jpg\n",
      "✅ Renamed: C:\\Users\\RAJ\\Downloads\\Data\\Hemorrhagic\\KANAMA\\3[3]\\ventrik├╝ler-parankimal kanama_0_9.jpg → C:\\Users\\RAJ\\Downloads\\Data\\Hemorrhagic\\KANAMA\\3[3]\\ventrik_ler-parankimal kanama_0_9.jpg\n",
      "✅ Renamed: C:\\Users\\RAJ\\Downloads\\Data\\Hemorrhagic\\KANAMA\\3[3]\\ventrik├╝ler-parankimal kanama_0_90.jpg → C:\\Users\\RAJ\\Downloads\\Data\\Hemorrhagic\\KANAMA\\3[3]\\ventrik_ler-parankimal kanama_0_90.jpg\n"
     ]
    }
   ],
   "source": [
    "import os\n",
    "\n",
    "def clean_filenames(directory):\n",
    "    for root, _, files in os.walk(directory):\n",
    "        for filename in files:\n",
    "            new_filename = filename.encode(\"utf-8\", \"ignore\").decode(\"utf-8\")  # Remove invalid characters\n",
    "            new_filename = new_filename.replace(\"[\", \"\").replace(\"]\", \"\").replace(\"├╝\", \"_\")  # Remove special characters\n",
    "            old_path = os.path.join(root, filename)\n",
    "            new_path = os.path.join(root, new_filename)\n",
    "            \n",
    "            if old_path != new_path:\n",
    "                os.rename(old_path, new_path)\n",
    "                print(f\"✅ Renamed: {old_path} → {new_path}\")\n",
    "\n",
    "DATASET_PATH = r\"C:\\Users\\RAJ\\Downloads\\Data\"\n",
    "clean_filenames(DATASET_PATH)\n"
   ]
  },
  {
   "cell_type": "code",
   "execution_count": 25,
   "id": "626510a3-b7b1-4d01-b785-2d37f08c290e",
   "metadata": {},
   "outputs": [
    {
     "name": "stdout",
     "output_type": "stream",
     "text": [
      "✅ Loaded 6795 images!\n"
     ]
    }
   ],
   "source": [
    "IMG_SIZE = (128, 128)  # Resize images to 128x128\n",
    "data = []\n",
    "labels = []\n",
    "\n",
    "# Define classes\n",
    "class_dirs = {\n",
    "    \"Hemorrhagic\": os.path.join(extract_path, \"Hemorrhagic\", \"KANAMA\"),\n",
    "    \"NORMAL\": os.path.join(extract_path, \"NORMAL\")\n",
    "}\n",
    "\n",
    "# Load images from both classes\n",
    "for label, folder in class_dirs.items():\n",
    "    for sub_folder in os.listdir(folder):\n",
    "        sub_folder_path = os.path.join(folder, sub_folder)\n",
    "        if os.path.isdir(sub_folder_path):\n",
    "            for img_file in os.listdir(sub_folder_path):\n",
    "                img_path = os.path.join(sub_folder_path, img_file)\n",
    "                img = cv2.imread(img_path, cv2.IMREAD_GRAYSCALE)  # Read in grayscale\n",
    "                img = cv2.resize(img, IMG_SIZE)  # Resize image\n",
    "                data.append(img)\n",
    "                labels.append(label)\n",
    "\n",
    "# Convert to numpy arrays\n",
    "data = np.array(data) / 255.0  # Normalize images\n",
    "labels = np.array(labels)\n",
    "\n",
    "print(f\"✅ Loaded {len(data)} images!\")\n"
   ]
  },
  {
   "cell_type": "code",
   "execution_count": 26,
   "id": "7dee1ff0-8780-4928-9e50-fafbc00abdd9",
   "metadata": {},
   "outputs": [],
   "source": [
    "from PIL import Image\n",
    "\n",
    "def test_images(directory):\n",
    "    for root, _, files in os.walk(directory):\n",
    "        for file in files:\n",
    "            file_path = os.path.join(root, file)\n",
    "            try:\n",
    "                img = Image.open(file_path)\n",
    "                img.verify()  # Verify if it's a valid image\n",
    "            except Exception as e:\n",
    "                print(f\"❌ Corrupt/Invalid Image: {file_path} → {e}\")\n",
    "\n",
    "DATASET_PATH = r\"C:\\Users\\RAJ\\Downloads\\Data\"\n",
    "test_images(DATASET_PATH)\n"
   ]
  },
  {
   "cell_type": "code",
   "execution_count": 27,
   "id": "8ac066ff-e795-4526-a0a5-fac0a5a57316",
   "metadata": {},
   "outputs": [],
   "source": [
    "import cv2\n",
    "import os\n",
    "\n",
    "for root, _, files in os.walk(DATASET_PATH):\n",
    "    for file in files:\n",
    "        img_path = os.path.join(root, file)\n",
    "        img = cv2.imread(img_path)\n",
    "        if img is None:\n",
    "            print(f\"❌ Cannot read: {img_path}\")\n"
   ]
  },
  {
   "cell_type": "code",
   "execution_count": 29,
   "id": "8bea183c-f86e-493e-a800-6186fac4b8cd",
   "metadata": {},
   "outputs": [
    {
     "name": "stdout",
     "output_type": "stream",
     "text": [
      "train_df is not defined\n",
      "val_df is not defined\n",
      "test_df is not defined\n"
     ]
    }
   ],
   "source": [
    "# Check if train_df, val_df, and test_df exist\n",
    "print(f\"Train DataFrame: {train_df.shape}\" if 'train_df' in locals() else \"train_df is not defined\")\n",
    "print(f\"Validation DataFrame: {val_df.shape}\" if 'val_df' in locals() else \"val_df is not defined\")\n",
    "print(f\"Test DataFrame: {test_df.shape}\" if 'test_df' in locals() else \"test_df is not defined\")\n"
   ]
  },
  {
   "cell_type": "code",
   "execution_count": 31,
   "id": "c134fb6e-5451-4278-a12a-c83d37b6cdc2",
   "metadata": {},
   "outputs": [
    {
     "name": "stdout",
     "output_type": "stream",
     "text": [
      "Empty DataFrame\n",
      "Columns: [image_path, label]\n",
      "Index: []\n",
      "(0, 2)\n"
     ]
    }
   ],
   "source": [
    "print(df.head())  # Show first few rows\n",
    "print(df.shape)   # Show the number of rows and columns\n"
   ]
  },
  {
   "cell_type": "code",
   "execution_count": 33,
   "id": "b5b754c6-314a-4fc5-9eba-3ef3b6a957d5",
   "metadata": {},
   "outputs": [
    {
     "name": "stdout",
     "output_type": "stream",
     "text": [
      "0\n",
      "6795\n",
      "[]\n",
      "['Hemorrhagic' 'Hemorrhagic' 'Hemorrhagic' 'Hemorrhagic' 'Hemorrhagic']\n"
     ]
    }
   ],
   "source": [
    "print(len(image_paths))  # Should print number of images\n",
    "print(len(labels))       # Should match image_paths\n",
    "print(image_paths[:5])   # Print first 5 paths\n",
    "print(labels[:5])        # Print first 5 labels\n"
   ]
  },
  {
   "cell_type": "code",
   "execution_count": 34,
   "id": "70903e75-a584-4266-8520-dc5f679d12c3",
   "metadata": {},
   "outputs": [
    {
     "name": "stdout",
     "output_type": "stream",
     "text": [
      "✅ Total images found: 6795\n"
     ]
    }
   ],
   "source": [
    "import os\n",
    "\n",
    "base_dir = r\"C:\\Users\\RAJ\\Downloads\\Data\"  # Ensure correct path\n",
    "\n",
    "hemorrhagic_dir = os.path.join(base_dir, \"Hemorrhagic\", \"KANAMA\")\n",
    "normal_dir = os.path.join(base_dir, \"NORMAL\")\n",
    "\n",
    "image_paths = []\n",
    "labels = []\n",
    "\n",
    "# Load hemorrhagic images\n",
    "for root, _, files in os.walk(hemorrhagic_dir):\n",
    "    for file in files:\n",
    "        if file.lower().endswith(('.png', '.jpg', '.jpeg')):  # Ensure only valid image formats\n",
    "            full_path = os.path.join(root, file)\n",
    "            if os.path.exists(full_path):  # Ensure file exists\n",
    "                image_paths.append(full_path)\n",
    "                labels.append(\"Hemorrhagic\")\n",
    "            else:\n",
    "                print(f\"⚠️ Missing file: {full_path}\")\n",
    "\n",
    "# Load normal images\n",
    "for root, _, files in os.walk(normal_dir):\n",
    "    for file in files:\n",
    "        if file.lower().endswith(('.png', '.jpg', '.jpeg')):\n",
    "            full_path = os.path.join(root, file)\n",
    "            if os.path.exists(full_path):\n",
    "                image_paths.append(full_path)\n",
    "                labels.append(\"Normal\")\n",
    "            else:\n",
    "                print(f\"⚠️ Missing file: {full_path}\")\n",
    "\n",
    "print(f\"✅ Total images found: {len(image_paths)}\")\n"
   ]
  },
  {
   "cell_type": "code",
   "execution_count": 35,
   "id": "8755214b-3c17-480d-83d4-c620d3fa10cf",
   "metadata": {},
   "outputs": [
    {
     "name": "stdout",
     "output_type": "stream",
     "text": [
      "6795\n",
      "6795\n",
      "['C:\\\\Users\\\\RAJ\\\\Downloads\\\\Data\\\\Hemorrhagic\\\\KANAMA\\\\11[11]\\\\11_0_0.jpg', 'C:\\\\Users\\\\RAJ\\\\Downloads\\\\Data\\\\Hemorrhagic\\\\KANAMA\\\\11[11]\\\\11_0_1.jpg', 'C:\\\\Users\\\\RAJ\\\\Downloads\\\\Data\\\\Hemorrhagic\\\\KANAMA\\\\11[11]\\\\11_0_10.jpg', 'C:\\\\Users\\\\RAJ\\\\Downloads\\\\Data\\\\Hemorrhagic\\\\KANAMA\\\\11[11]\\\\11_0_100.jpg', 'C:\\\\Users\\\\RAJ\\\\Downloads\\\\Data\\\\Hemorrhagic\\\\KANAMA\\\\11[11]\\\\11_0_101.jpg']\n",
      "['Hemorrhagic', 'Hemorrhagic', 'Hemorrhagic', 'Hemorrhagic', 'Hemorrhagic']\n"
     ]
    }
   ],
   "source": [
    "print(len(image_paths))  # Should match labels count\n",
    "print(len(labels))       # Should match image_paths count\n",
    "print(image_paths[:5])   # Should show 5 valid image paths\n",
    "print(labels[:5])        # Should show corresponding labels\n"
   ]
  },
  {
   "cell_type": "code",
   "execution_count": 36,
   "id": "837b25ab-610c-4ab8-9471-6cfe1da16346",
   "metadata": {},
   "outputs": [
    {
     "name": "stdout",
     "output_type": "stream",
     "text": [
      "                                          image_path        label\n",
      "0  C:\\Users\\RAJ\\Downloads\\Data\\Hemorrhagic\\KANAMA...  Hemorrhagic\n",
      "1  C:\\Users\\RAJ\\Downloads\\Data\\Hemorrhagic\\KANAMA...  Hemorrhagic\n",
      "2  C:\\Users\\RAJ\\Downloads\\Data\\Hemorrhagic\\KANAMA...  Hemorrhagic\n",
      "3  C:\\Users\\RAJ\\Downloads\\Data\\Hemorrhagic\\KANAMA...  Hemorrhagic\n",
      "4  C:\\Users\\RAJ\\Downloads\\Data\\Hemorrhagic\\KANAMA...  Hemorrhagic\n",
      "(6795, 2)\n"
     ]
    }
   ],
   "source": [
    "import pandas as pd\n",
    "from sklearn.model_selection import train_test_split\n",
    "\n",
    "# Create DataFrame\n",
    "df = pd.DataFrame({'image_path': image_paths, 'label': labels})\n",
    "\n",
    "# Print DataFrame Info\n",
    "print(df.head())  # Check if data is loaded properly\n",
    "print(df.shape)   # Should match total images count\n"
   ]
  },
  {
   "cell_type": "code",
   "execution_count": 37,
   "id": "dd17b082-e5c3-4851-a982-03aaf66ae1ef",
   "metadata": {},
   "outputs": [
    {
     "name": "stdout",
     "output_type": "stream",
     "text": [
      "Train: (4756, 2), Validation: (1019, 2), Test: (1020, 2)\n"
     ]
    }
   ],
   "source": [
    "# Split into train (70%), validation (15%), and test (15%)\n",
    "train_df, temp_df = train_test_split(df, test_size=0.3, stratify=df['label'], random_state=42)\n",
    "val_df, test_df = train_test_split(temp_df, test_size=0.5, stratify=temp_df['label'], random_state=42)\n",
    "\n",
    "# Print DataFrame shapes\n",
    "print(f\"Train: {train_df.shape}, Validation: {val_df.shape}, Test: {test_df.shape}\")\n"
   ]
  },
  {
   "cell_type": "code",
   "execution_count": 38,
   "id": "43dd93b9-75d3-4e9d-b5ca-c76fce571f8e",
   "metadata": {},
   "outputs": [
    {
     "name": "stdout",
     "output_type": "stream",
     "text": [
      "Batch X shape: (32, 224, 224, 1), Batch Y shape: (32,)\n"
     ]
    }
   ],
   "source": [
    "import tensorflow as tf\n",
    "import cv2\n",
    "import numpy as np\n",
    "\n",
    "# Image size and batch size\n",
    "IMG_SIZE = (224, 224)  # Resize images to 224x224\n",
    "BATCH_SIZE = 32\n",
    "\n",
    "# Data Generator Class\n",
    "class BrainHemorrhageDataGenerator(tf.keras.utils.Sequence):\n",
    "    def __init__(self, dataframe, batch_size=BATCH_SIZE, shuffle=True):\n",
    "        self.dataframe = dataframe\n",
    "        self.batch_size = batch_size\n",
    "        self.shuffle = shuffle\n",
    "        self.indexes = np.arange(len(self.dataframe))\n",
    "        self.on_epoch_end()\n",
    "\n",
    "    def __len__(self):\n",
    "        return int(np.floor(len(self.dataframe) / self.batch_size))\n",
    "\n",
    "    def __getitem__(self, index):\n",
    "        indexes = self.indexes[index * self.batch_size:(index + 1) * self.batch_size]\n",
    "        batch_data = self.dataframe.iloc[indexes]\n",
    "        \n",
    "        images, labels = self.__data_generation(batch_data)\n",
    "        return np.array(images), np.array(labels)\n",
    "\n",
    "    def on_epoch_end(self):\n",
    "        if self.shuffle:\n",
    "            np.random.shuffle(self.indexes)\n",
    "\n",
    "    def __data_generation(self, batch_data):\n",
    "        images = []\n",
    "        labels = []\n",
    "        \n",
    "        for _, row in batch_data.iterrows():\n",
    "            img = cv2.imread(row['image_path'], cv2.IMREAD_GRAYSCALE)  # Read image\n",
    "            if img is None:\n",
    "                continue  # Skip if image is missing\n",
    "\n",
    "            img = cv2.resize(img, IMG_SIZE)  # Resize\n",
    "            img = img / 255.0  # Normalize\n",
    "            images.append(img)\n",
    "\n",
    "            # Convert label to numerical (0 = Normal, 1 = Hemorrhagic)\n",
    "            labels.append(1 if row['label'] == \"Hemorrhagic\" else 0)\n",
    "\n",
    "        return np.expand_dims(images, axis=-1), labels  # Add channel dimension\n",
    "\n",
    "# Create generators\n",
    "train_generator = BrainHemorrhageDataGenerator(train_df)\n",
    "val_generator = BrainHemorrhageDataGenerator(val_df)\n",
    "test_generator = BrainHemorrhageDataGenerator(test_df, shuffle=False)\n",
    "\n",
    "# Check generator output\n",
    "x_batch, y_batch = train_generator[0]\n",
    "print(f\"Batch X shape: {x_batch.shape}, Batch Y shape: {y_batch.shape}\")\n"
   ]
  },
  {
   "cell_type": "code",
   "execution_count": 39,
   "id": "1a7d2d8f-5b49-4863-a1fd-21c59eb5bafb",
   "metadata": {},
   "outputs": [
    {
     "data": {
      "text/html": [
       "<pre style=\"white-space:pre;overflow-x:auto;line-height:normal;font-family:Menlo,'DejaVu Sans Mono',consolas,'Courier New',monospace\"><span style=\"font-weight: bold\">Model: \"functional\"</span>\n",
       "</pre>\n"
      ],
      "text/plain": [
       "\u001b[1mModel: \"functional\"\u001b[0m\n"
      ]
     },
     "metadata": {},
     "output_type": "display_data"
    },
    {
     "data": {
      "text/html": [
       "<pre style=\"white-space:pre;overflow-x:auto;line-height:normal;font-family:Menlo,'DejaVu Sans Mono',consolas,'Courier New',monospace\">┏━━━━━━━━━━━━━━━━━━━━━━━━━━━━━━━━━━━━━━┳━━━━━━━━━━━━━━━━━━━━━━━━━━━━━┳━━━━━━━━━━━━━━━━━┓\n",
       "┃<span style=\"font-weight: bold\"> Layer (type)                         </span>┃<span style=\"font-weight: bold\"> Output Shape                </span>┃<span style=\"font-weight: bold\">         Param # </span>┃\n",
       "┡━━━━━━━━━━━━━━━━━━━━━━━━━━━━━━━━━━━━━━╇━━━━━━━━━━━━━━━━━━━━━━━━━━━━━╇━━━━━━━━━━━━━━━━━┩\n",
       "│ input_layer (<span style=\"color: #0087ff; text-decoration-color: #0087ff\">InputLayer</span>)             │ (<span style=\"color: #00d7ff; text-decoration-color: #00d7ff\">None</span>, <span style=\"color: #00af00; text-decoration-color: #00af00\">224</span>, <span style=\"color: #00af00; text-decoration-color: #00af00\">224</span>, <span style=\"color: #00af00; text-decoration-color: #00af00\">1</span>)         │               <span style=\"color: #00af00; text-decoration-color: #00af00\">0</span> │\n",
       "├──────────────────────────────────────┼─────────────────────────────┼─────────────────┤\n",
       "│ conv2d (<span style=\"color: #0087ff; text-decoration-color: #0087ff\">Conv2D</span>)                      │ (<span style=\"color: #00d7ff; text-decoration-color: #00d7ff\">None</span>, <span style=\"color: #00af00; text-decoration-color: #00af00\">224</span>, <span style=\"color: #00af00; text-decoration-color: #00af00\">224</span>, <span style=\"color: #00af00; text-decoration-color: #00af00\">32</span>)        │             <span style=\"color: #00af00; text-decoration-color: #00af00\">320</span> │\n",
       "├──────────────────────────────────────┼─────────────────────────────┼─────────────────┤\n",
       "│ max_pooling2d (<span style=\"color: #0087ff; text-decoration-color: #0087ff\">MaxPooling2D</span>)         │ (<span style=\"color: #00d7ff; text-decoration-color: #00d7ff\">None</span>, <span style=\"color: #00af00; text-decoration-color: #00af00\">112</span>, <span style=\"color: #00af00; text-decoration-color: #00af00\">112</span>, <span style=\"color: #00af00; text-decoration-color: #00af00\">32</span>)        │               <span style=\"color: #00af00; text-decoration-color: #00af00\">0</span> │\n",
       "├──────────────────────────────────────┼─────────────────────────────┼─────────────────┤\n",
       "│ conv2d_1 (<span style=\"color: #0087ff; text-decoration-color: #0087ff\">Conv2D</span>)                    │ (<span style=\"color: #00d7ff; text-decoration-color: #00d7ff\">None</span>, <span style=\"color: #00af00; text-decoration-color: #00af00\">112</span>, <span style=\"color: #00af00; text-decoration-color: #00af00\">112</span>, <span style=\"color: #00af00; text-decoration-color: #00af00\">64</span>)        │          <span style=\"color: #00af00; text-decoration-color: #00af00\">18,496</span> │\n",
       "├──────────────────────────────────────┼─────────────────────────────┼─────────────────┤\n",
       "│ max_pooling2d_1 (<span style=\"color: #0087ff; text-decoration-color: #0087ff\">MaxPooling2D</span>)       │ (<span style=\"color: #00d7ff; text-decoration-color: #00d7ff\">None</span>, <span style=\"color: #00af00; text-decoration-color: #00af00\">56</span>, <span style=\"color: #00af00; text-decoration-color: #00af00\">56</span>, <span style=\"color: #00af00; text-decoration-color: #00af00\">64</span>)          │               <span style=\"color: #00af00; text-decoration-color: #00af00\">0</span> │\n",
       "├──────────────────────────────────────┼─────────────────────────────┼─────────────────┤\n",
       "│ conv2d_2 (<span style=\"color: #0087ff; text-decoration-color: #0087ff\">Conv2D</span>)                    │ (<span style=\"color: #00d7ff; text-decoration-color: #00d7ff\">None</span>, <span style=\"color: #00af00; text-decoration-color: #00af00\">56</span>, <span style=\"color: #00af00; text-decoration-color: #00af00\">56</span>, <span style=\"color: #00af00; text-decoration-color: #00af00\">128</span>)         │          <span style=\"color: #00af00; text-decoration-color: #00af00\">73,856</span> │\n",
       "├──────────────────────────────────────┼─────────────────────────────┼─────────────────┤\n",
       "│ max_pooling2d_2 (<span style=\"color: #0087ff; text-decoration-color: #0087ff\">MaxPooling2D</span>)       │ (<span style=\"color: #00d7ff; text-decoration-color: #00d7ff\">None</span>, <span style=\"color: #00af00; text-decoration-color: #00af00\">28</span>, <span style=\"color: #00af00; text-decoration-color: #00af00\">28</span>, <span style=\"color: #00af00; text-decoration-color: #00af00\">128</span>)         │               <span style=\"color: #00af00; text-decoration-color: #00af00\">0</span> │\n",
       "├──────────────────────────────────────┼─────────────────────────────┼─────────────────┤\n",
       "│ flatten (<span style=\"color: #0087ff; text-decoration-color: #0087ff\">Flatten</span>)                    │ (<span style=\"color: #00d7ff; text-decoration-color: #00d7ff\">None</span>, <span style=\"color: #00af00; text-decoration-color: #00af00\">100352</span>)              │               <span style=\"color: #00af00; text-decoration-color: #00af00\">0</span> │\n",
       "├──────────────────────────────────────┼─────────────────────────────┼─────────────────┤\n",
       "│ dense (<span style=\"color: #0087ff; text-decoration-color: #0087ff\">Dense</span>)                        │ (<span style=\"color: #00d7ff; text-decoration-color: #00d7ff\">None</span>, <span style=\"color: #00af00; text-decoration-color: #00af00\">256</span>)                 │      <span style=\"color: #00af00; text-decoration-color: #00af00\">25,690,368</span> │\n",
       "├──────────────────────────────────────┼─────────────────────────────┼─────────────────┤\n",
       "│ dropout (<span style=\"color: #0087ff; text-decoration-color: #0087ff\">Dropout</span>)                    │ (<span style=\"color: #00d7ff; text-decoration-color: #00d7ff\">None</span>, <span style=\"color: #00af00; text-decoration-color: #00af00\">256</span>)                 │               <span style=\"color: #00af00; text-decoration-color: #00af00\">0</span> │\n",
       "├──────────────────────────────────────┼─────────────────────────────┼─────────────────┤\n",
       "│ reshape (<span style=\"color: #0087ff; text-decoration-color: #0087ff\">Reshape</span>)                    │ (<span style=\"color: #00d7ff; text-decoration-color: #00d7ff\">None</span>, <span style=\"color: #00af00; text-decoration-color: #00af00\">1</span>, <span style=\"color: #00af00; text-decoration-color: #00af00\">256</span>)              │               <span style=\"color: #00af00; text-decoration-color: #00af00\">0</span> │\n",
       "├──────────────────────────────────────┼─────────────────────────────┼─────────────────┤\n",
       "│ lstm (<span style=\"color: #0087ff; text-decoration-color: #0087ff\">LSTM</span>)                          │ (<span style=\"color: #00d7ff; text-decoration-color: #00d7ff\">None</span>, <span style=\"color: #00af00; text-decoration-color: #00af00\">1</span>, <span style=\"color: #00af00; text-decoration-color: #00af00\">128</span>)              │         <span style=\"color: #00af00; text-decoration-color: #00af00\">197,120</span> │\n",
       "├──────────────────────────────────────┼─────────────────────────────┼─────────────────┤\n",
       "│ gru (<span style=\"color: #0087ff; text-decoration-color: #0087ff\">GRU</span>)                            │ (<span style=\"color: #00d7ff; text-decoration-color: #00d7ff\">None</span>, <span style=\"color: #00af00; text-decoration-color: #00af00\">64</span>)                  │          <span style=\"color: #00af00; text-decoration-color: #00af00\">37,248</span> │\n",
       "├──────────────────────────────────────┼─────────────────────────────┼─────────────────┤\n",
       "│ dense_1 (<span style=\"color: #0087ff; text-decoration-color: #0087ff\">Dense</span>)                      │ (<span style=\"color: #00d7ff; text-decoration-color: #00d7ff\">None</span>, <span style=\"color: #00af00; text-decoration-color: #00af00\">1</span>)                   │              <span style=\"color: #00af00; text-decoration-color: #00af00\">65</span> │\n",
       "└──────────────────────────────────────┴─────────────────────────────┴─────────────────┘\n",
       "</pre>\n"
      ],
      "text/plain": [
       "┏━━━━━━━━━━━━━━━━━━━━━━━━━━━━━━━━━━━━━━┳━━━━━━━━━━━━━━━━━━━━━━━━━━━━━┳━━━━━━━━━━━━━━━━━┓\n",
       "┃\u001b[1m \u001b[0m\u001b[1mLayer (type)                        \u001b[0m\u001b[1m \u001b[0m┃\u001b[1m \u001b[0m\u001b[1mOutput Shape               \u001b[0m\u001b[1m \u001b[0m┃\u001b[1m \u001b[0m\u001b[1m        Param #\u001b[0m\u001b[1m \u001b[0m┃\n",
       "┡━━━━━━━━━━━━━━━━━━━━━━━━━━━━━━━━━━━━━━╇━━━━━━━━━━━━━━━━━━━━━━━━━━━━━╇━━━━━━━━━━━━━━━━━┩\n",
       "│ input_layer (\u001b[38;5;33mInputLayer\u001b[0m)             │ (\u001b[38;5;45mNone\u001b[0m, \u001b[38;5;34m224\u001b[0m, \u001b[38;5;34m224\u001b[0m, \u001b[38;5;34m1\u001b[0m)         │               \u001b[38;5;34m0\u001b[0m │\n",
       "├──────────────────────────────────────┼─────────────────────────────┼─────────────────┤\n",
       "│ conv2d (\u001b[38;5;33mConv2D\u001b[0m)                      │ (\u001b[38;5;45mNone\u001b[0m, \u001b[38;5;34m224\u001b[0m, \u001b[38;5;34m224\u001b[0m, \u001b[38;5;34m32\u001b[0m)        │             \u001b[38;5;34m320\u001b[0m │\n",
       "├──────────────────────────────────────┼─────────────────────────────┼─────────────────┤\n",
       "│ max_pooling2d (\u001b[38;5;33mMaxPooling2D\u001b[0m)         │ (\u001b[38;5;45mNone\u001b[0m, \u001b[38;5;34m112\u001b[0m, \u001b[38;5;34m112\u001b[0m, \u001b[38;5;34m32\u001b[0m)        │               \u001b[38;5;34m0\u001b[0m │\n",
       "├──────────────────────────────────────┼─────────────────────────────┼─────────────────┤\n",
       "│ conv2d_1 (\u001b[38;5;33mConv2D\u001b[0m)                    │ (\u001b[38;5;45mNone\u001b[0m, \u001b[38;5;34m112\u001b[0m, \u001b[38;5;34m112\u001b[0m, \u001b[38;5;34m64\u001b[0m)        │          \u001b[38;5;34m18,496\u001b[0m │\n",
       "├──────────────────────────────────────┼─────────────────────────────┼─────────────────┤\n",
       "│ max_pooling2d_1 (\u001b[38;5;33mMaxPooling2D\u001b[0m)       │ (\u001b[38;5;45mNone\u001b[0m, \u001b[38;5;34m56\u001b[0m, \u001b[38;5;34m56\u001b[0m, \u001b[38;5;34m64\u001b[0m)          │               \u001b[38;5;34m0\u001b[0m │\n",
       "├──────────────────────────────────────┼─────────────────────────────┼─────────────────┤\n",
       "│ conv2d_2 (\u001b[38;5;33mConv2D\u001b[0m)                    │ (\u001b[38;5;45mNone\u001b[0m, \u001b[38;5;34m56\u001b[0m, \u001b[38;5;34m56\u001b[0m, \u001b[38;5;34m128\u001b[0m)         │          \u001b[38;5;34m73,856\u001b[0m │\n",
       "├──────────────────────────────────────┼─────────────────────────────┼─────────────────┤\n",
       "│ max_pooling2d_2 (\u001b[38;5;33mMaxPooling2D\u001b[0m)       │ (\u001b[38;5;45mNone\u001b[0m, \u001b[38;5;34m28\u001b[0m, \u001b[38;5;34m28\u001b[0m, \u001b[38;5;34m128\u001b[0m)         │               \u001b[38;5;34m0\u001b[0m │\n",
       "├──────────────────────────────────────┼─────────────────────────────┼─────────────────┤\n",
       "│ flatten (\u001b[38;5;33mFlatten\u001b[0m)                    │ (\u001b[38;5;45mNone\u001b[0m, \u001b[38;5;34m100352\u001b[0m)              │               \u001b[38;5;34m0\u001b[0m │\n",
       "├──────────────────────────────────────┼─────────────────────────────┼─────────────────┤\n",
       "│ dense (\u001b[38;5;33mDense\u001b[0m)                        │ (\u001b[38;5;45mNone\u001b[0m, \u001b[38;5;34m256\u001b[0m)                 │      \u001b[38;5;34m25,690,368\u001b[0m │\n",
       "├──────────────────────────────────────┼─────────────────────────────┼─────────────────┤\n",
       "│ dropout (\u001b[38;5;33mDropout\u001b[0m)                    │ (\u001b[38;5;45mNone\u001b[0m, \u001b[38;5;34m256\u001b[0m)                 │               \u001b[38;5;34m0\u001b[0m │\n",
       "├──────────────────────────────────────┼─────────────────────────────┼─────────────────┤\n",
       "│ reshape (\u001b[38;5;33mReshape\u001b[0m)                    │ (\u001b[38;5;45mNone\u001b[0m, \u001b[38;5;34m1\u001b[0m, \u001b[38;5;34m256\u001b[0m)              │               \u001b[38;5;34m0\u001b[0m │\n",
       "├──────────────────────────────────────┼─────────────────────────────┼─────────────────┤\n",
       "│ lstm (\u001b[38;5;33mLSTM\u001b[0m)                          │ (\u001b[38;5;45mNone\u001b[0m, \u001b[38;5;34m1\u001b[0m, \u001b[38;5;34m128\u001b[0m)              │         \u001b[38;5;34m197,120\u001b[0m │\n",
       "├──────────────────────────────────────┼─────────────────────────────┼─────────────────┤\n",
       "│ gru (\u001b[38;5;33mGRU\u001b[0m)                            │ (\u001b[38;5;45mNone\u001b[0m, \u001b[38;5;34m64\u001b[0m)                  │          \u001b[38;5;34m37,248\u001b[0m │\n",
       "├──────────────────────────────────────┼─────────────────────────────┼─────────────────┤\n",
       "│ dense_1 (\u001b[38;5;33mDense\u001b[0m)                      │ (\u001b[38;5;45mNone\u001b[0m, \u001b[38;5;34m1\u001b[0m)                   │              \u001b[38;5;34m65\u001b[0m │\n",
       "└──────────────────────────────────────┴─────────────────────────────┴─────────────────┘\n"
      ]
     },
     "metadata": {},
     "output_type": "display_data"
    },
    {
     "data": {
      "text/html": [
       "<pre style=\"white-space:pre;overflow-x:auto;line-height:normal;font-family:Menlo,'DejaVu Sans Mono',consolas,'Courier New',monospace\"><span style=\"font-weight: bold\"> Total params: </span><span style=\"color: #00af00; text-decoration-color: #00af00\">26,017,473</span> (99.25 MB)\n",
       "</pre>\n"
      ],
      "text/plain": [
       "\u001b[1m Total params: \u001b[0m\u001b[38;5;34m26,017,473\u001b[0m (99.25 MB)\n"
      ]
     },
     "metadata": {},
     "output_type": "display_data"
    },
    {
     "data": {
      "text/html": [
       "<pre style=\"white-space:pre;overflow-x:auto;line-height:normal;font-family:Menlo,'DejaVu Sans Mono',consolas,'Courier New',monospace\"><span style=\"font-weight: bold\"> Trainable params: </span><span style=\"color: #00af00; text-decoration-color: #00af00\">26,017,473</span> (99.25 MB)\n",
       "</pre>\n"
      ],
      "text/plain": [
       "\u001b[1m Trainable params: \u001b[0m\u001b[38;5;34m26,017,473\u001b[0m (99.25 MB)\n"
      ]
     },
     "metadata": {},
     "output_type": "display_data"
    },
    {
     "data": {
      "text/html": [
       "<pre style=\"white-space:pre;overflow-x:auto;line-height:normal;font-family:Menlo,'DejaVu Sans Mono',consolas,'Courier New',monospace\"><span style=\"font-weight: bold\"> Non-trainable params: </span><span style=\"color: #00af00; text-decoration-color: #00af00\">0</span> (0.00 B)\n",
       "</pre>\n"
      ],
      "text/plain": [
       "\u001b[1m Non-trainable params: \u001b[0m\u001b[38;5;34m0\u001b[0m (0.00 B)\n"
      ]
     },
     "metadata": {},
     "output_type": "display_data"
    }
   ],
   "source": [
    "import tensorflow as tf\n",
    "from tensorflow.keras.models import Model\n",
    "from tensorflow.keras.layers import (Conv2D, MaxPooling2D, Flatten, Dense, Dropout, \n",
    "                                     Input, LSTM, GRU, Reshape, TimeDistributed)\n",
    "\n",
    "# Define Input Shape\n",
    "input_shape = (224, 224, 1)  # Grayscale Images\n",
    "\n",
    "# CNN Feature Extractor\n",
    "inputs = Input(shape=input_shape)\n",
    "x = Conv2D(32, (3, 3), activation='relu', padding='same')(inputs)\n",
    "x = MaxPooling2D((2, 2))(x)\n",
    "x = Conv2D(64, (3, 3), activation='relu', padding='same')(x)\n",
    "x = MaxPooling2D((2, 2))(x)\n",
    "x = Conv2D(128, (3, 3), activation='relu', padding='same')(x)\n",
    "x = MaxPooling2D((2, 2))(x)\n",
    "x = Flatten()(x)\n",
    "x = Dense(256, activation='relu')(x)\n",
    "x = Dropout(0.5)(x)\n",
    "\n",
    "# Reshape for LSTM/GRU (sequence format)\n",
    "x = Reshape((1, -1))(x)  # Convert to (batch, time_step=1, features)\n",
    "\n",
    "# LSTM + GRU Layers\n",
    "x = LSTM(128, return_sequences=True)(x)\n",
    "x = GRU(64, return_sequences=False)(x)\n",
    "\n",
    "# Output Layer (Binary Classification: Normal vs Hemorrhagic)\n",
    "outputs = Dense(1, activation='sigmoid')(x)\n",
    "\n",
    "# Create Model\n",
    "model = Model(inputs, outputs)\n",
    "model.compile(optimizer='adam', loss='binary_crossentropy', metrics=['accuracy'])\n",
    "\n",
    "# Model Summary\n",
    "model.summary()\n"
   ]
  },
  {
   "cell_type": "code",
   "execution_count": 40,
   "id": "87a31ac9-16cb-4c16-a76c-8377ce46a8ae",
   "metadata": {},
   "outputs": [
    {
     "name": "stderr",
     "output_type": "stream",
     "text": [
      "C:\\Users\\RAJ\\AppData\\Local\\Programs\\Python\\Python311\\Lib\\site-packages\\keras\\src\\trainers\\data_adapters\\py_dataset_adapter.py:121: UserWarning: Your `PyDataset` class should call `super().__init__(**kwargs)` in its constructor. `**kwargs` can include `workers`, `use_multiprocessing`, `max_queue_size`. Do not pass these arguments to `fit()`, as they will be ignored.\n",
      "  self._warn_if_super_not_called()\n"
     ]
    },
    {
     "name": "stdout",
     "output_type": "stream",
     "text": [
      "Epoch 1/10\n",
      "\u001b[1m148/148\u001b[0m \u001b[32m━━━━━━━━━━━━━━━━━━━━\u001b[0m\u001b[37m\u001b[0m \u001b[1m92s\u001b[0m 581ms/step - accuracy: 0.7802 - loss: 0.4205 - val_accuracy: 0.9889 - val_loss: 0.0370\n",
      "Epoch 2/10\n",
      "\u001b[1m148/148\u001b[0m \u001b[32m━━━━━━━━━━━━━━━━━━━━\u001b[0m\u001b[37m\u001b[0m \u001b[1m94s\u001b[0m 633ms/step - accuracy: 0.9834 - loss: 0.0608 - val_accuracy: 0.9980 - val_loss: 0.0041\n",
      "Epoch 3/10\n",
      "\u001b[1m148/148\u001b[0m \u001b[32m━━━━━━━━━━━━━━━━━━━━\u001b[0m\u001b[37m\u001b[0m \u001b[1m93s\u001b[0m 630ms/step - accuracy: 0.9948 - loss: 0.0173 - val_accuracy: 1.0000 - val_loss: 0.0017\n",
      "Epoch 4/10\n",
      "\u001b[1m148/148\u001b[0m \u001b[32m━━━━━━━━━━━━━━━━━━━━\u001b[0m\u001b[37m\u001b[0m \u001b[1m93s\u001b[0m 628ms/step - accuracy: 0.9952 - loss: 0.0138 - val_accuracy: 1.0000 - val_loss: 4.2981e-04\n",
      "Epoch 5/10\n",
      "\u001b[1m148/148\u001b[0m \u001b[32m━━━━━━━━━━━━━━━━━━━━\u001b[0m\u001b[37m\u001b[0m \u001b[1m93s\u001b[0m 628ms/step - accuracy: 0.9989 - loss: 0.0030 - val_accuracy: 0.9990 - val_loss: 0.0038\n",
      "Epoch 6/10\n",
      "\u001b[1m148/148\u001b[0m \u001b[32m━━━━━━━━━━━━━━━━━━━━\u001b[0m\u001b[37m\u001b[0m \u001b[1m93s\u001b[0m 626ms/step - accuracy: 0.9993 - loss: 0.0042 - val_accuracy: 1.0000 - val_loss: 2.2470e-04\n",
      "Epoch 7/10\n",
      "\u001b[1m148/148\u001b[0m \u001b[32m━━━━━━━━━━━━━━━━━━━━\u001b[0m\u001b[37m\u001b[0m \u001b[1m93s\u001b[0m 630ms/step - accuracy: 0.9975 - loss: 0.0092 - val_accuracy: 0.9980 - val_loss: 0.0024\n",
      "Epoch 8/10\n",
      "\u001b[1m148/148\u001b[0m \u001b[32m━━━━━━━━━━━━━━━━━━━━\u001b[0m\u001b[37m\u001b[0m \u001b[1m93s\u001b[0m 629ms/step - accuracy: 0.9983 - loss: 0.0071 - val_accuracy: 1.0000 - val_loss: 7.0554e-04\n",
      "Epoch 9/10\n",
      "\u001b[1m148/148\u001b[0m \u001b[32m━━━━━━━━━━━━━━━━━━━━\u001b[0m\u001b[37m\u001b[0m \u001b[1m117s\u001b[0m 791ms/step - accuracy: 1.0000 - loss: 4.6324e-04 - val_accuracy: 1.0000 - val_loss: 1.7537e-04\n",
      "Epoch 10/10\n",
      "\u001b[1m148/148\u001b[0m \u001b[32m━━━━━━━━━━━━━━━━━━━━\u001b[0m\u001b[37m\u001b[0m \u001b[1m143s\u001b[0m 968ms/step - accuracy: 0.9998 - loss: 9.7011e-04 - val_accuracy: 1.0000 - val_loss: 5.6366e-05\n"
     ]
    },
    {
     "name": "stderr",
     "output_type": "stream",
     "text": [
      "WARNING:absl:You are saving your model as an HDF5 file via `model.save()` or `keras.saving.save_model(model)`. This file format is considered legacy. We recommend using instead the native Keras format, e.g. `model.save('my_model.keras')` or `keras.saving.save_model(model, 'my_model.keras')`. \n"
     ]
    }
   ],
   "source": [
    "# Train the model\n",
    "history = model.fit(train_generator,\n",
    "                    validation_data=val_generator,\n",
    "                    epochs=10,  # Increase if needed\n",
    "                    verbose=1)\n",
    "\n",
    "# Save the trained model\n",
    "model.save(\"brain_hemorrhage_model.h5\")\n"
   ]
  },
  {
   "cell_type": "code",
   "execution_count": 41,
   "id": "dbf60d14-bc87-4fc1-abfe-7daa5540d5c0",
   "metadata": {},
   "outputs": [],
   "source": [
    "model.save(\"brain_hemorrhage_model.keras\")\n"
   ]
  },
  {
   "cell_type": "code",
   "execution_count": 42,
   "id": "ecc0a0d6-22f8-4e97-b5e8-cfd6505a23fd",
   "metadata": {},
   "outputs": [
    {
     "name": "stdout",
     "output_type": "stream",
     "text": [
      "\u001b[1m31/31\u001b[0m \u001b[32m━━━━━━━━━━━━━━━━━━━━\u001b[0m\u001b[37m\u001b[0m \u001b[1m9s\u001b[0m 276ms/step - accuracy: 0.9994 - loss: 0.0016    \n",
      "Test Accuracy: 0.9980, Test Loss: 0.0049\n"
     ]
    }
   ],
   "source": [
    "test_loss, test_acc = model.evaluate(test_generator)\n",
    "print(f\"Test Accuracy: {test_acc:.4f}, Test Loss: {test_loss:.4f}\")\n"
   ]
  },
  {
   "cell_type": "code",
   "execution_count": 43,
   "id": "50c30d37-f83c-46e8-80ae-12e6820b1503",
   "metadata": {},
   "outputs": [
    {
     "data": {
      "image/png": "[encoded data removed]",
      "text/plain": [
       "<Figure size 640x480 with 1 Axes>"
      ]
     },
     "metadata": {},
     "output_type": "display_data"
    }
   ],
   "source": [
    "import matplotlib.pyplot as plt\n",
    "\n",
    "plt.plot(history.history['accuracy'], label='Train Accuracy')\n",
    "plt.plot(history.history['val_accuracy'], label='Validation Accuracy')\n",
    "plt.xlabel('Epochs')\n",
    "plt.ylabel('Accuracy')\n",
    "plt.legend()\n",
    "plt.show()\n"
   ]
  },
  {
   "cell_type": "code",
   "execution_count": 45,
   "id": "81cf7ec2-f116-4dc7-b3d4-e6e4b529b1ca",
   "metadata": {},
   "outputs": [
    {
     "name": "stdout",
     "output_type": "stream",
     "text": [
      "\u001b[1m1/1\u001b[0m \u001b[32m━━━━━━━━━━━━━━━━━━━━\u001b[0m\u001b[37m\u001b[0m \u001b[1m1s\u001b[0m 1s/step\n",
      "\u001b[1m1/1\u001b[0m \u001b[32m━━━━━━━━━━━━━━━━━━━━\u001b[0m\u001b[37m\u001b[0m \u001b[1m0s\u001b[0m 338ms/step\n",
      "\u001b[1m1/1\u001b[0m \u001b[32m━━━━━━━━━━━━━━━━━━━━\u001b[0m\u001b[37m\u001b[0m \u001b[1m0s\u001b[0m 337ms/step\n",
      "\u001b[1m1/1\u001b[0m \u001b[32m━━━━━━━━━━━━━━━━━━━━\u001b[0m\u001b[37m\u001b[0m \u001b[1m0s\u001b[0m 351ms/step\n",
      "\u001b[1m1/1\u001b[0m \u001b[32m━━━━━━━━━━━━━━━━━━━━\u001b[0m\u001b[37m\u001b[0m \u001b[1m0s\u001b[0m 338ms/step\n",
      "\u001b[1m1/1\u001b[0m \u001b[32m━━━━━━━━━━━━━━━━━━━━\u001b[0m\u001b[37m\u001b[0m \u001b[1m0s\u001b[0m 327ms/step\n",
      "\u001b[1m1/1\u001b[0m \u001b[32m━━━━━━━━━━━━━━━━━━━━\u001b[0m\u001b[37m\u001b[0m \u001b[1m0s\u001b[0m 349ms/step\n",
      "\u001b[1m1/1\u001b[0m \u001b[32m━━━━━━━━━━━━━━━━━━━━\u001b[0m\u001b[37m\u001b[0m \u001b[1m0s\u001b[0m 329ms/step\n",
      "\u001b[1m1/1\u001b[0m \u001b[32m━━━━━━━━━━━━━━━━━━━━\u001b[0m\u001b[37m\u001b[0m \u001b[1m0s\u001b[0m 352ms/step\n",
      "\u001b[1m1/1\u001b[0m \u001b[32m━━━━━━━━━━━━━━━━━━━━\u001b[0m\u001b[37m\u001b[0m \u001b[1m0s\u001b[0m 332ms/step\n",
      "\u001b[1m1/1\u001b[0m \u001b[32m━━━━━━━━━━━━━━━━━━━━\u001b[0m\u001b[37m\u001b[0m \u001b[1m0s\u001b[0m 341ms/step\n",
      "\u001b[1m1/1\u001b[0m \u001b[32m━━━━━━━━━━━━━━━━━━━━\u001b[0m\u001b[37m\u001b[0m \u001b[1m0s\u001b[0m 335ms/step\n",
      "\u001b[1m1/1\u001b[0m \u001b[32m━━━━━━━━━━━━━━━━━━━━\u001b[0m\u001b[37m\u001b[0m \u001b[1m0s\u001b[0m 316ms/step\n",
      "\u001b[1m1/1\u001b[0m \u001b[32m━━━━━━━━━━━━━━━━━━━━\u001b[0m\u001b[37m\u001b[0m \u001b[1m0s\u001b[0m 339ms/step\n",
      "\u001b[1m1/1\u001b[0m \u001b[32m━━━━━━━━━━━━━━━━━━━━\u001b[0m\u001b[37m\u001b[0m \u001b[1m0s\u001b[0m 307ms/step\n",
      "\u001b[1m1/1\u001b[0m \u001b[32m━━━━━━━━━━━━━━━━━━━━\u001b[0m\u001b[37m\u001b[0m \u001b[1m0s\u001b[0m 321ms/step\n",
      "\u001b[1m1/1\u001b[0m \u001b[32m━━━━━━━━━━━━━━━━━━━━\u001b[0m\u001b[37m\u001b[0m \u001b[1m0s\u001b[0m 320ms/step\n",
      "\u001b[1m1/1\u001b[0m \u001b[32m━━━━━━━━━━━━━━━━━━━━\u001b[0m\u001b[37m\u001b[0m \u001b[1m0s\u001b[0m 360ms/step\n",
      "\u001b[1m1/1\u001b[0m \u001b[32m━━━━━━━━━━━━━━━━━━━━\u001b[0m\u001b[37m\u001b[0m \u001b[1m0s\u001b[0m 334ms/step\n",
      "\u001b[1m1/1\u001b[0m \u001b[32m━━━━━━━━━━━━━━━━━━━━\u001b[0m\u001b[37m\u001b[0m \u001b[1m0s\u001b[0m 310ms/step\n",
      "\u001b[1m1/1\u001b[0m \u001b[32m━━━━━━━━━━━━━━━━━━━━\u001b[0m\u001b[37m\u001b[0m \u001b[1m0s\u001b[0m 329ms/step\n",
      "\u001b[1m1/1\u001b[0m \u001b[32m━━━━━━━━━━━━━━━━━━━━\u001b[0m\u001b[37m\u001b[0m \u001b[1m0s\u001b[0m 331ms/step\n",
      "\u001b[1m1/1\u001b[0m \u001b[32m━━━━━━━━━━━━━━━━━━━━\u001b[0m\u001b[37m\u001b[0m \u001b[1m0s\u001b[0m 333ms/step\n",
      "\u001b[1m1/1\u001b[0m \u001b[32m━━━━━━━━━━━━━━━━━━━━\u001b[0m\u001b[37m\u001b[0m \u001b[1m0s\u001b[0m 359ms/step\n",
      "\u001b[1m1/1\u001b[0m \u001b[32m━━━━━━━━━━━━━━━━━━━━\u001b[0m\u001b[37m\u001b[0m \u001b[1m0s\u001b[0m 336ms/step\n",
      "\u001b[1m1/1\u001b[0m \u001b[32m━━━━━━━━━━━━━━━━━━━━\u001b[0m\u001b[37m\u001b[0m \u001b[1m0s\u001b[0m 332ms/step\n",
      "\u001b[1m1/1\u001b[0m \u001b[32m━━━━━━━━━━━━━━━━━━━━\u001b[0m\u001b[37m\u001b[0m \u001b[1m0s\u001b[0m 332ms/step\n",
      "\u001b[1m1/1\u001b[0m \u001b[32m━━━━━━━━━━━━━━━━━━━━\u001b[0m\u001b[37m\u001b[0m \u001b[1m0s\u001b[0m 318ms/step\n",
      "\u001b[1m1/1\u001b[0m \u001b[32m━━━━━━━━━━━━━━━━━━━━\u001b[0m\u001b[37m\u001b[0m \u001b[1m0s\u001b[0m 332ms/step\n",
      "\u001b[1m1/1\u001b[0m \u001b[32m━━━━━━━━━━━━━━━━━━━━\u001b[0m\u001b[37m\u001b[0m \u001b[1m0s\u001b[0m 324ms/step\n",
      "\u001b[1m1/1\u001b[0m \u001b[32m━━━━━━━━━━━━━━━━━━━━\u001b[0m\u001b[37m\u001b[0m \u001b[1m0s\u001b[0m 314ms/step\n",
      "Confusion Matrix:\n",
      "[[597   0]\n",
      " [  2 393]]\n",
      "\n",
      "Classification Report:\n",
      "              precision    recall  f1-score   support\n",
      "\n",
      " Hemorrhagic       1.00      1.00      1.00       597\n",
      "      Normal       1.00      0.99      1.00       395\n",
      "\n",
      "    accuracy                           1.00       992\n",
      "   macro avg       1.00      1.00      1.00       992\n",
      "weighted avg       1.00      1.00      1.00       992\n",
      "\n"
     ]
    }
   ],
   "source": [
    "from sklearn.metrics import confusion_matrix, classification_report\n",
    "import numpy as np\n",
    "\n",
    "# Extract true labels from test_generator\n",
    "y_true = []\n",
    "y_pred = []\n",
    "\n",
    "for i in range(len(test_generator)):  # Loop through batches\n",
    "    X_batch, y_batch = test_generator[i]  # Get batch data\n",
    "    y_true.extend(y_batch)  # Append true labels\n",
    "    y_pred.extend(np.round(model.predict(X_batch)).flatten())  # Get predictions\n",
    "\n",
    "# Convert to numpy arrays\n",
    "y_true = np.array(y_true)\n",
    "y_pred = np.array(y_pred)\n",
    "\n",
    "# Compute confusion matrix and classification report\n",
    "print(\"Confusion Matrix:\")\n",
    "print(confusion_matrix(y_true, y_pred))\n",
    "\n",
    "print(\"\\nClassification Report:\")\n",
    "print(classification_report(y_true, y_pred, target_names=['Hemorrhagic', 'Normal']))\n"
   ]
  },
  {
   "cell_type": "code",
   "execution_count": 47,
   "id": "d0c32fdc-9fbf-4a9d-9daf-db14cd2f8209",
   "metadata": {},
   "outputs": [
    {
     "name": "stderr",
     "output_type": "stream",
     "text": [
      "WARNING:absl:Compiled the loaded model, but the compiled metrics have yet to be built. `model.compile_metrics` will be empty until you train or evaluate the model.\n"
     ]
    },
    {
     "name": "stdout",
     "output_type": "stream",
     "text": [
      "\u001b[1m1/1\u001b[0m \u001b[32m━━━━━━━━━━━━━━━━━━━━\u001b[0m\u001b[37m\u001b[0m \u001b[1m1s\u001b[0m 918ms/step\n",
      "🔴 Hemorrhagic detected (Confidence: 1.00)\n"
     ]
    }
   ],
   "source": [
    "import cv2\n",
    "import numpy as np\n",
    "from tensorflow.keras.models import load_model\n",
    "\n",
    "# Load the trained model\n",
    "model = load_model(\"brain_hemorrhage_model.h5\")  # Change path if needed\n",
    "\n",
    "# Function to preprocess the image\n",
    "def preprocess_image(image_path):\n",
    "    img = cv2.imread(image_path, cv2.IMREAD_GRAYSCALE)  # Read as grayscale\n",
    "    img = cv2.resize(img, (224, 224))  # Resize to model's input size\n",
    "    img = img / 255.0  # Normalize pixel values\n",
    "    img = np.expand_dims(img, axis=-1)  # Add channel dimension (224, 224, 1)\n",
    "    img = np.expand_dims(img, axis=0)   # Add batch dimension (1, 224, 224, 1)\n",
    "    return img\n",
    "\n",
    "# Upload and test a sample image\n",
    "image_path = r\"C:\\Users\\RAJ\\Downloads\\hem.jpg\"  # Corrected path\n",
    "image = preprocess_image(image_path)\n",
    "\n",
    "# Make prediction\n",
    "prediction = model.predict(image)[0][0]\n",
    "\n",
    "# Interpret result\n",
    "threshold = 0.5  # Assuming sigmoid activation\n",
    "if prediction >= threshold:\n",
    "    print(f\"🔴 Hemorrhagic detected (Confidence: {prediction:.2f})\")\n",
    "else:\n",
    "    print(f\"🟢 Normal (Confidence: {1 - prediction:.2f})\")\n"
   ]
  },
  {
   "cell_type": "code",
   "execution_count": 48,
   "id": "c5522688-0469-4d5b-b5d8-a1b3e4c80a00",
   "metadata": {},
   "outputs": [
    {
     "name": "stderr",
     "output_type": "stream",
     "text": [
      "WARNING:absl:Compiled the loaded model, but the compiled metrics have yet to be built. `model.compile_metrics` will be empty until you train or evaluate the model.\n"
     ]
    },
    {
     "name": "stdout",
     "output_type": "stream",
     "text": [
      "\u001b[1m1/1\u001b[0m \u001b[32m━━━━━━━━━━━━━━━━━━━━\u001b[0m\u001b[37m\u001b[0m \u001b[1m1s\u001b[0m 836ms/step\n",
      "🟢 Normal (Confidence: 1.00)\n"
     ]
    }
   ],
   "source": [
    "import cv2\n",
    "import numpy as np\n",
    "from tensorflow.keras.models import load_model\n",
    "\n",
    "# Load the trained model\n",
    "model = load_model(\"brain_hemorrhage_model.h5\")  # Change path if needed\n",
    "\n",
    "# Function to preprocess the image\n",
    "def preprocess_image(image_path):\n",
    "    img = cv2.imread(image_path, cv2.IMREAD_GRAYSCALE)  # Read as grayscale\n",
    "    img = cv2.resize(img, (224, 224))  # Resize to model's input size\n",
    "    img = img / 255.0  # Normalize pixel values\n",
    "    img = np.expand_dims(img, axis=-1)  # Add channel dimension (224, 224, 1)\n",
    "    img = np.expand_dims(img, axis=0)   # Add batch dimension (1, 224, 224, 1)\n",
    "    return img\n",
    "\n",
    "# Upload and test a sample image\n",
    "image_path = r\"C:\\Users\\RAJ\\Downloads\\norm.png\"  # Corrected path\n",
    "image = preprocess_image(image_path)\n",
    "\n",
    "# Make prediction\n",
    "prediction = model.predict(image)[0][0]\n",
    "\n",
    "# Interpret result\n",
    "threshold = 0.5  # Assuming sigmoid activation\n",
    "if prediction >= threshold:\n",
    "    print(f\"🔴 Hemorrhagic detected (Confidence: {prediction:.2f})\")\n",
    "else:\n",
    "    print(f\"🟢 Normal (Confidence: {1 - prediction:.2f})\")\n"
   ]
  },
  {
   "cell_type": "code",
   "execution_count": null,
   "id": "ad1deb80-3c95-4ff5-a348-296c964bd72f",
   "metadata": {},
   "outputs": [],
   "source": []
  },
  {
   "cell_type": "code",
   "execution_count": null,
   "id": "a2a4631b-7b8d-43ed-9cab-8787e92478be",
   "metadata": {},
   "outputs": [],
   "source": []
  },
  {
   "cell_type": "code",
   "execution_count": null,
   "id": "e51bbdda-ee82-4570-8b64-7a4ae6498d20",
   "metadata": {},
   "outputs": [],
   "source": []
  },
  {
   "cell_type": "code",
   "execution_count": null,
   "id": "f7b8ea05-130c-40a4-b57f-0fa70004da97",
   "metadata": {},
   "outputs": [],
   "source": []
  }
 ],
 "metadata": {
  "kernelspec": {
   "display_name": "Python 3 (ipykernel)",
   "language": "python",
   "name": "python3"
  },
  "language_info": {
   "codemirror_mode": {
    "name": "ipython",
    "version": 3
   },
   "file_extension": ".py",
   "mimetype": "text/x-python",
   "name": "python",
   "nbconvert_exporter": "python",
   "pygments_lexer": "ipython3",
   "version": "3.11.5"
  }
 },
 "nbformat": 4,
 "nbformat_minor": 5
}
